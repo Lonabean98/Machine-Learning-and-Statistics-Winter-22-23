{
 "cells": [
  {
   "cell_type": "markdown",
   "metadata": {},
   "source": [
    "# Evaluation\n",
    "\n",
    "***\n",
    "\n",
    "https://keras.io/examples/timeseries/timeseries_anomaly_detection/"
   ]
  },
  {
   "cell_type": "markdown",
   "metadata": {},
   "source": [
    "Keras is an open-source software library that provides a Python interface for ANNs (Artificial Neural Networks). It is designed to be user-friendly, modular, and extensible, allowing developers to create and experiment with various neural network architectures in a fast and efficient manner. It is built on top of other popular machine learning libraries, such as TensorFlow and Theano, and it provides a high-level interface for defining and training neural networks. It is especially well-suited for deep learning tasks, as it allows users to easily define and train complex models with many layers. https://keras.io/\n",
    "\n",
    "Keras is widely used in the field of deep learning, and it has gained popularity due to its simplicity and ease of use. It is used by researchers and practitioners in a variety of fields, including natural language processing, computer vision, and robotics.\n",
    "\n",
    "Anomaly detection in time series refers to the identification of unusual patterns in a time series data that do not conform to expected behavior. It is an important task in various fields such as finance, manufacturing, and cybersecurity, as it can help identify unusual events or behavior that may require further investigation. Anomaly detection in time series typically involves analyzing the data to identify patterns and trends, and then using this information to detect deviations from the expected patterns. This can be done using statistical techniques, machine learning algorithms, or a combination of both. https://valueml.com/anomaly-detection-in-time-series-data-using-keras/\n",
    "\n",
    "\n",
    "\n",
    "<br />\n",
    "\n",
    "\n",
    "\n",
    "\n",
    "\n",
    "\n"
   ]
  },
  {
   "cell_type": "markdown",
   "metadata": {},
   "source": [
    "\n",
    "\n",
    "An autoencoder consists of two parts: an encoder and a decoder. The encoder maps the input data to a lower-dimensional representation, called the latent representation, while the decoder maps the latent representation back to the original input space. The goal of training an autoencoder is to learn a function that can reconstruct the input data accurately, such that the difference between the input and the reconstructed output is minimized.\n",
    "\n",
    "To detect anomalies in time series data using an autoencoder, we can train the autoencoder on a normal or \"healthy\" time series and then use it to reconstruct new time series data points. If the reconstruction error, or the difference between the input and the reconstructed output, is significantly higher for a particular time series data point, it may indicate that the data point is an anomaly. https://blog.keras.io/building-autoencoders-in-keras.html"
   ]
  },
  {
   "cell_type": "markdown",
   "metadata": {},
   "source": [
    "\n",
    "\n",
    "Here is a general outline of how an autoencoder is being used to detect anomalies in time series data in this notebook:\n",
    "\n",
    "-Time series data is preprocessed to make it suitable for training an autoencoder. This will involve normalizing the data, handling missing values, and so on.\n",
    "\n",
    "-Preprocessed time series data is split into training and validation sets. The training set will be used to train the autoencoder, while the validation set will be used to evaluate its performance.\n",
    "\n",
    "-The autoencoder is trained on the training set. This involves optimizing the weights and biases of the encoder and decoder to minimize the reconstruction error.\n",
    "\n",
    "-The trained autoencoderis used to reconstruct the time series data points in the validation set. Calculate the reconstruction error for each data point.\n",
    "\n",
    "-A threshold is set for the reconstruction error above which a data point is considered an anomaly. Data points with reconstruction error above the threshold can be flagged as anomalies.\n",
    "\n",
    "-Use the trained autoencoder to detect anomalies in new time series data.\n",
    "\n",
    "It is worth noting that autoencoder-based anomaly detection is sensitive to the quality and diversity of the training data. It is important to ensure that the training data represents a wide range of normal behaviors, so that the autoencoder can learn to reconstruct them accurately."
   ]
  },
  {
   "cell_type": "code",
   "execution_count": 2,
   "metadata": {},
   "outputs": [],
   "source": [
    "# Numerical arrays.\n",
    "import numpy as np\n",
    "\n",
    "# Spreadsheet-like Data Frames.\n",
    "import pandas as pd\n",
    "\n",
    "# Neural networks.\n",
    "import tensorflow.keras as keras\n",
    "\n",
    "# Plotting\n",
    "import matplotlib.pyplot as plt"
   ]
  },
  {
   "cell_type": "markdown",
   "metadata": {},
   "source": [
    "## Data\n",
    "\n",
    "***\n",
    "\n",
    "https://www.kaggle.com/datasets/boltzmannbrain/nab\n",
    "\n",
    "https://github.com/numenta/NAB"
   ]
  },
  {
   "cell_type": "markdown",
   "metadata": {},
   "source": [
    "The script defines a few variables containing URLs that point to time series data stored on a remote server. The data is stored in CSV format and includes both \"normal\" time series data (art_daily_small_noise.csv) and time series data with anomalies (art_daily_jumpsup.csv)."
   ]
  },
  {
   "cell_type": "code",
   "execution_count": 3,
   "metadata": {},
   "outputs": [],
   "source": [
    "# Root of URLs.\n",
    "root_url = 'https://raw.githubusercontent.com/numenta/NAB/master/data/'\n",
    "\n",
    "# Data file without anomaly.\n",
    "no_anomaly_url = root_url + 'artificialNoAnomaly/art_daily_small_noise.csv'\n",
    "\n",
    "# Data file with anomaly.\n",
    "with_anomaly_url = root_url + 'artificialWithAnomaly/art_daily_jumpsup.csv'"
   ]
  },
  {
   "cell_type": "code",
   "execution_count": 4,
   "metadata": {},
   "outputs": [
    {
     "data": {
      "text/plain": [
       "'https://raw.githubusercontent.com/numenta/NAB/master/data/artificialNoAnomaly/art_daily_small_noise.csv'"
      ]
     },
     "execution_count": 4,
     "metadata": {},
     "output_type": "execute_result"
    }
   ],
   "source": [
    "no_anomaly_url"
   ]
  },
  {
   "cell_type": "code",
   "execution_count": 5,
   "metadata": {},
   "outputs": [
    {
     "data": {
      "text/plain": [
       "'https://raw.githubusercontent.com/numenta/NAB/master/data/artificialWithAnomaly/art_daily_jumpsup.csv'"
      ]
     },
     "execution_count": 5,
     "metadata": {},
     "output_type": "execute_result"
    }
   ],
   "source": [
    "with_anomaly_url"
   ]
  },
  {
   "cell_type": "code",
   "execution_count": 6,
   "metadata": {},
   "outputs": [],
   "source": [
    "# Load a small dataset with no anomalies from a URL\n",
    "df_small_noise = pd.read_csv(no_anomaly_url, parse_dates=True, index_col=\"timestamp\")"
   ]
  },
  {
   "cell_type": "code",
   "execution_count": 7,
   "metadata": {
    "scrolled": true
   },
   "outputs": [
    {
     "data": {
      "text/html": [
       "<div>\n",
       "<style scoped>\n",
       "    .dataframe tbody tr th:only-of-type {\n",
       "        vertical-align: middle;\n",
       "    }\n",
       "\n",
       "    .dataframe tbody tr th {\n",
       "        vertical-align: top;\n",
       "    }\n",
       "\n",
       "    .dataframe thead th {\n",
       "        text-align: right;\n",
       "    }\n",
       "</style>\n",
       "<table border=\"1\" class=\"dataframe\">\n",
       "  <thead>\n",
       "    <tr style=\"text-align: right;\">\n",
       "      <th></th>\n",
       "      <th>value</th>\n",
       "    </tr>\n",
       "    <tr>\n",
       "      <th>timestamp</th>\n",
       "      <th></th>\n",
       "    </tr>\n",
       "  </thead>\n",
       "  <tbody>\n",
       "    <tr>\n",
       "      <th>2014-04-01 00:00:00</th>\n",
       "      <td>18.324919</td>\n",
       "    </tr>\n",
       "    <tr>\n",
       "      <th>2014-04-01 00:05:00</th>\n",
       "      <td>21.970327</td>\n",
       "    </tr>\n",
       "    <tr>\n",
       "      <th>2014-04-01 00:10:00</th>\n",
       "      <td>18.624806</td>\n",
       "    </tr>\n",
       "    <tr>\n",
       "      <th>2014-04-01 00:15:00</th>\n",
       "      <td>21.953684</td>\n",
       "    </tr>\n",
       "    <tr>\n",
       "      <th>2014-04-01 00:20:00</th>\n",
       "      <td>21.909120</td>\n",
       "    </tr>\n",
       "  </tbody>\n",
       "</table>\n",
       "</div>"
      ],
      "text/plain": [
       "                         value\n",
       "timestamp                     \n",
       "2014-04-01 00:00:00  18.324919\n",
       "2014-04-01 00:05:00  21.970327\n",
       "2014-04-01 00:10:00  18.624806\n",
       "2014-04-01 00:15:00  21.953684\n",
       "2014-04-01 00:20:00  21.909120"
      ]
     },
     "execution_count": 7,
     "metadata": {},
     "output_type": "execute_result"
    }
   ],
   "source": [
    "#  Print the first few rows of the dataframe\n",
    "df_small_noise.head()"
   ]
  },
  {
   "cell_type": "code",
   "execution_count": 8,
   "metadata": {},
   "outputs": [
    {
     "data": {
      "text/html": [
       "<div>\n",
       "<style scoped>\n",
       "    .dataframe tbody tr th:only-of-type {\n",
       "        vertical-align: middle;\n",
       "    }\n",
       "\n",
       "    .dataframe tbody tr th {\n",
       "        vertical-align: top;\n",
       "    }\n",
       "\n",
       "    .dataframe thead th {\n",
       "        text-align: right;\n",
       "    }\n",
       "</style>\n",
       "<table border=\"1\" class=\"dataframe\">\n",
       "  <thead>\n",
       "    <tr style=\"text-align: right;\">\n",
       "      <th></th>\n",
       "      <th>value</th>\n",
       "    </tr>\n",
       "  </thead>\n",
       "  <tbody>\n",
       "    <tr>\n",
       "      <th>count</th>\n",
       "      <td>4032.000000</td>\n",
       "    </tr>\n",
       "    <tr>\n",
       "      <th>mean</th>\n",
       "      <td>42.438353</td>\n",
       "    </tr>\n",
       "    <tr>\n",
       "      <th>std</th>\n",
       "      <td>28.077122</td>\n",
       "    </tr>\n",
       "    <tr>\n",
       "      <th>min</th>\n",
       "      <td>18.000964</td>\n",
       "    </tr>\n",
       "    <tr>\n",
       "      <th>25%</th>\n",
       "      <td>19.841390</td>\n",
       "    </tr>\n",
       "    <tr>\n",
       "      <th>50%</th>\n",
       "      <td>21.608487</td>\n",
       "    </tr>\n",
       "    <tr>\n",
       "      <th>75%</th>\n",
       "      <td>75.450282</td>\n",
       "    </tr>\n",
       "    <tr>\n",
       "      <th>max</th>\n",
       "      <td>87.976128</td>\n",
       "    </tr>\n",
       "  </tbody>\n",
       "</table>\n",
       "</div>"
      ],
      "text/plain": [
       "             value\n",
       "count  4032.000000\n",
       "mean     42.438353\n",
       "std      28.077122\n",
       "min      18.000964\n",
       "25%      19.841390\n",
       "50%      21.608487\n",
       "75%      75.450282\n",
       "max      87.976128"
      ]
     },
     "execution_count": 8,
     "metadata": {},
     "output_type": "execute_result"
    }
   ],
   "source": [
    "# Generate descriptive statistics\n",
    "df_small_noise.describe()"
   ]
  },
  {
   "cell_type": "code",
   "execution_count": 9,
   "metadata": {},
   "outputs": [
    {
     "data": {
      "text/plain": [
       "value    18.324919\n",
       "Name: 2014-04-01 00:00:00, dtype: float64"
      ]
     },
     "execution_count": 9,
     "metadata": {},
     "output_type": "execute_result"
    }
   ],
   "source": [
    "# Print the first row of the dataframe. Pandas is automatically rounding the value\n",
    "df_small_noise.iloc[0]"
   ]
  },
  {
   "cell_type": "code",
   "execution_count": 10,
   "metadata": {},
   "outputs": [
    {
     "data": {
      "text/plain": [
       "18.3249185392"
      ]
     },
     "execution_count": 10,
     "metadata": {},
     "output_type": "execute_result"
    }
   ],
   "source": [
    "# Print value from first row of the dataframe\n",
    "df_small_noise.iloc[0]['value']"
   ]
  },
  {
   "cell_type": "code",
   "execution_count": 11,
   "metadata": {},
   "outputs": [
    {
     "data": {
      "text/plain": [
       "18.3249185392"
      ]
     },
     "execution_count": 11,
     "metadata": {},
     "output_type": "execute_result"
    }
   ],
   "source": [
    "# print the first value \n",
    "df_small_noise.iloc[0].values[0]"
   ]
  },
  {
   "cell_type": "code",
   "execution_count": 12,
   "metadata": {},
   "outputs": [
    {
     "data": {
      "text/plain": [
       "183249185392000.0"
      ]
     },
     "execution_count": 12,
     "metadata": {},
     "output_type": "execute_result"
    }
   ],
   "source": [
    "#  \n",
    "df_small_noise.iloc[0].values[0] * 10e12"
   ]
  },
  {
   "cell_type": "code",
   "execution_count": 13,
   "metadata": {},
   "outputs": [
    {
     "data": {
      "text/plain": [
       "(4032, 1)"
      ]
     },
     "execution_count": 13,
     "metadata": {},
     "output_type": "execute_result"
    }
   ],
   "source": [
    "# print shape of the df\n",
    "df_small_noise.shape"
   ]
  },
  {
   "cell_type": "code",
   "execution_count": 14,
   "metadata": {},
   "outputs": [
    {
     "data": {
      "image/png": "[encoded data removed]",
      "text/plain": [
       "<Figure size 720x288 with 1 Axes>"
      ]
     },
     "metadata": {
      "needs_background": "light"
     },
     "output_type": "display_data"
    }
   ],
   "source": [
    "# plot the dataframe with no anomalies\n",
    "fig, ax = plt.subplots(figsize=(10,4))\n",
    "\n",
    "# Use pandas to plot data frame.\n",
    "df_small_noise.plot(legend=False, ax=ax);"
   ]
  },
  {
   "cell_type": "code",
   "execution_count": 15,
   "metadata": {},
   "outputs": [],
   "source": [
    "# read the csv file, parse the timestamps in the file as dates and times\n",
    "df_daily_jumpsup = pd.read_csv(with_anomaly_url, parse_dates=True, index_col=\"timestamp\")"
   ]
  },
  {
   "cell_type": "code",
   "execution_count": 16,
   "metadata": {},
   "outputs": [
    {
     "data": {
      "text/html": [
       "<div>\n",
       "<style scoped>\n",
       "    .dataframe tbody tr th:only-of-type {\n",
       "        vertical-align: middle;\n",
       "    }\n",
       "\n",
       "    .dataframe tbody tr th {\n",
       "        vertical-align: top;\n",
       "    }\n",
       "\n",
       "    .dataframe thead th {\n",
       "        text-align: right;\n",
       "    }\n",
       "</style>\n",
       "<table border=\"1\" class=\"dataframe\">\n",
       "  <thead>\n",
       "    <tr style=\"text-align: right;\">\n",
       "      <th></th>\n",
       "      <th>value</th>\n",
       "    </tr>\n",
       "    <tr>\n",
       "      <th>timestamp</th>\n",
       "      <th></th>\n",
       "    </tr>\n",
       "  </thead>\n",
       "  <tbody>\n",
       "    <tr>\n",
       "      <th>2014-04-01 00:00:00</th>\n",
       "      <td>19.761252</td>\n",
       "    </tr>\n",
       "    <tr>\n",
       "      <th>2014-04-01 00:05:00</th>\n",
       "      <td>20.500833</td>\n",
       "    </tr>\n",
       "    <tr>\n",
       "      <th>2014-04-01 00:10:00</th>\n",
       "      <td>19.961641</td>\n",
       "    </tr>\n",
       "    <tr>\n",
       "      <th>2014-04-01 00:15:00</th>\n",
       "      <td>21.490266</td>\n",
       "    </tr>\n",
       "    <tr>\n",
       "      <th>2014-04-01 00:20:00</th>\n",
       "      <td>20.187739</td>\n",
       "    </tr>\n",
       "  </tbody>\n",
       "</table>\n",
       "</div>"
      ],
      "text/plain": [
       "                         value\n",
       "timestamp                     \n",
       "2014-04-01 00:00:00  19.761252\n",
       "2014-04-01 00:05:00  20.500833\n",
       "2014-04-01 00:10:00  19.961641\n",
       "2014-04-01 00:15:00  21.490266\n",
       "2014-04-01 00:20:00  20.187739"
      ]
     },
     "execution_count": 16,
     "metadata": {},
     "output_type": "execute_result"
    }
   ],
   "source": [
    "# show first few values of the dataframe\n",
    "df_daily_jumpsup.head()"
   ]
  },
  {
   "cell_type": "code",
   "execution_count": 17,
   "metadata": {},
   "outputs": [
    {
     "data": {
      "text/html": [
       "<div>\n",
       "<style scoped>\n",
       "    .dataframe tbody tr th:only-of-type {\n",
       "        vertical-align: middle;\n",
       "    }\n",
       "\n",
       "    .dataframe tbody tr th {\n",
       "        vertical-align: top;\n",
       "    }\n",
       "\n",
       "    .dataframe thead th {\n",
       "        text-align: right;\n",
       "    }\n",
       "</style>\n",
       "<table border=\"1\" class=\"dataframe\">\n",
       "  <thead>\n",
       "    <tr style=\"text-align: right;\">\n",
       "      <th></th>\n",
       "      <th>value</th>\n",
       "    </tr>\n",
       "  </thead>\n",
       "  <tbody>\n",
       "    <tr>\n",
       "      <th>count</th>\n",
       "      <td>4032.000000</td>\n",
       "    </tr>\n",
       "    <tr>\n",
       "      <th>mean</th>\n",
       "      <td>44.494254</td>\n",
       "    </tr>\n",
       "    <tr>\n",
       "      <th>std</th>\n",
       "      <td>32.432473</td>\n",
       "    </tr>\n",
       "    <tr>\n",
       "      <th>min</th>\n",
       "      <td>18.001010</td>\n",
       "    </tr>\n",
       "    <tr>\n",
       "      <th>25%</th>\n",
       "      <td>19.991382</td>\n",
       "    </tr>\n",
       "    <tr>\n",
       "      <th>50%</th>\n",
       "      <td>21.648503</td>\n",
       "    </tr>\n",
       "    <tr>\n",
       "      <th>75%</th>\n",
       "      <td>76.435943</td>\n",
       "    </tr>\n",
       "    <tr>\n",
       "      <th>max</th>\n",
       "      <td>164.947481</td>\n",
       "    </tr>\n",
       "  </tbody>\n",
       "</table>\n",
       "</div>"
      ],
      "text/plain": [
       "             value\n",
       "count  4032.000000\n",
       "mean     44.494254\n",
       "std      32.432473\n",
       "min      18.001010\n",
       "25%      19.991382\n",
       "50%      21.648503\n",
       "75%      76.435943\n",
       "max     164.947481"
      ]
     },
     "execution_count": 17,
     "metadata": {},
     "output_type": "execute_result"
    }
   ],
   "source": [
    "# show descriptive stats of the df\n",
    "df_daily_jumpsup.describe()"
   ]
  },
  {
   "cell_type": "code",
   "execution_count": 18,
   "metadata": {},
   "outputs": [
    {
     "data": {
      "text/plain": [
       "19.761251903"
      ]
     },
     "execution_count": 18,
     "metadata": {},
     "output_type": "execute_result"
    }
   ],
   "source": [
    "# Print value from first row of the dataframe\n",
    "df_daily_jumpsup.iloc[0]['value']"
   ]
  },
  {
   "cell_type": "code",
   "execution_count": 19,
   "metadata": {},
   "outputs": [
    {
     "data": {
      "text/plain": [
       "(4032, 1)"
      ]
     },
     "execution_count": 19,
     "metadata": {},
     "output_type": "execute_result"
    }
   ],
   "source": [
    "# print shape of the df\n",
    "df_daily_jumpsup.shape"
   ]
  },
  {
   "cell_type": "code",
   "execution_count": 20,
   "metadata": {},
   "outputs": [
    {
     "data": {
      "image/png": "[encoded data removed]",
      "text/plain": [
       "<Figure size 720x288 with 1 Axes>"
      ]
     },
     "metadata": {
      "needs_background": "light"
     },
     "output_type": "display_data"
    }
   ],
   "source": [
    "# plot dataframe with anomalies\n",
    "fig, ax = plt.subplots(figsize=(10,4))\n",
    "\n",
    "# Use pandas to plot data frame.\n",
    "df_daily_jumpsup.plot(legend=False, ax=ax);"
   ]
  },
  {
   "cell_type": "markdown",
   "metadata": {},
   "source": [
    "## Preprocessing\n",
    "\n",
    "***"
   ]
  },
  {
   "cell_type": "markdown",
   "metadata": {},
   "source": [
    "One important aspect of working with neural networks is data preprocessing, which refers to the process of preparing the data for training and evaluation. This can involve a variety of tasks, such as cleaning and formatting the data, normalizing numerical values, and encoding categorical values. It is a very important task as the raw data may be unclean, it may be missing the attributes, it may contain noise, wrong or duplicate data. https://valueml.com/anomaly-detection-in-time-series-data-using-keras/\n",
    "\n",
    "The script preprocesses the data by normalizing the value column in each DataFrame using the mean and standard deviation of the value column. This is done using the following steps:\n",
    "\n",
    "-Calculate the mean and standard deviation of the value column using the mean() and std() methods.\n",
    "\n",
    "-Subtract the mean from each value in the value column and divide by the standard deviation.\n",
    "\n",
    "-Store the resulting values in a new df_train_vals DataFrame."
   ]
  },
  {
   "cell_type": "code",
   "execution_count": 21,
   "metadata": {},
   "outputs": [
    {
     "data": {
      "text/plain": [
       "value    42.438353\n",
       "dtype: float64"
      ]
     },
     "execution_count": 21,
     "metadata": {},
     "output_type": "execute_result"
    }
   ],
   "source": [
    "# The mean of the data is calculated\n",
    "train_mean = df_small_noise.mean()\n",
    "\n",
    "train_mean"
   ]
  },
  {
   "cell_type": "code",
   "execution_count": 22,
   "metadata": {},
   "outputs": [
    {
     "data": {
      "text/plain": [
       "value    28.077122\n",
       "dtype: float64"
      ]
     },
     "execution_count": 22,
     "metadata": {},
     "output_type": "execute_result"
    }
   ],
   "source": [
    "# Calculate standard deviation\n",
    "train_std = df_small_noise.std()\n",
    "\n",
    "train_std"
   ]
  },
  {
   "cell_type": "code",
   "execution_count": 23,
   "metadata": {},
   "outputs": [],
   "source": [
    "# subtract the mean and divide by the standard deviation\n",
    "df_train_vals = (df_small_noise - train_mean) / train_std"
   ]
  },
  {
   "cell_type": "markdown",
   "metadata": {},
   "source": [
    "This transformation is commonly known as normalization and can be useful for scaling the data so that it has zero mean and unit variance."
   ]
  },
  {
   "cell_type": "code",
   "execution_count": 24,
   "metadata": {},
   "outputs": [
    {
     "data": {
      "text/html": [
       "<div>\n",
       "<style scoped>\n",
       "    .dataframe tbody tr th:only-of-type {\n",
       "        vertical-align: middle;\n",
       "    }\n",
       "\n",
       "    .dataframe tbody tr th {\n",
       "        vertical-align: top;\n",
       "    }\n",
       "\n",
       "    .dataframe thead th {\n",
       "        text-align: right;\n",
       "    }\n",
       "</style>\n",
       "<table border=\"1\" class=\"dataframe\">\n",
       "  <thead>\n",
       "    <tr style=\"text-align: right;\">\n",
       "      <th></th>\n",
       "      <th>value</th>\n",
       "    </tr>\n",
       "    <tr>\n",
       "      <th>timestamp</th>\n",
       "      <th></th>\n",
       "    </tr>\n",
       "  </thead>\n",
       "  <tbody>\n",
       "    <tr>\n",
       "      <th>2014-04-01 00:00:00</th>\n",
       "      <td>-0.858829</td>\n",
       "    </tr>\n",
       "    <tr>\n",
       "      <th>2014-04-01 00:05:00</th>\n",
       "      <td>-0.728993</td>\n",
       "    </tr>\n",
       "    <tr>\n",
       "      <th>2014-04-01 00:10:00</th>\n",
       "      <td>-0.848148</td>\n",
       "    </tr>\n",
       "    <tr>\n",
       "      <th>2014-04-01 00:15:00</th>\n",
       "      <td>-0.729586</td>\n",
       "    </tr>\n",
       "    <tr>\n",
       "      <th>2014-04-01 00:20:00</th>\n",
       "      <td>-0.731173</td>\n",
       "    </tr>\n",
       "  </tbody>\n",
       "</table>\n",
       "</div>"
      ],
      "text/plain": [
       "                        value\n",
       "timestamp                    \n",
       "2014-04-01 00:00:00 -0.858829\n",
       "2014-04-01 00:05:00 -0.728993\n",
       "2014-04-01 00:10:00 -0.848148\n",
       "2014-04-01 00:15:00 -0.729586\n",
       "2014-04-01 00:20:00 -0.731173"
      ]
     },
     "execution_count": 24,
     "metadata": {},
     "output_type": "execute_result"
    }
   ],
   "source": [
    "# show first few values of df\n",
    "df_train_vals.head()"
   ]
  },
  {
   "cell_type": "code",
   "execution_count": 25,
   "metadata": {},
   "outputs": [],
   "source": [
    "# Create two new columns in the DataFrame: less_mean and div_std\n",
    "df_small_noise['less_mean'] = df_small_noise['value'] - df_small_noise['value'].mean()\n",
    "df_small_noise['div_std'] = df_small_noise['less_mean'] / df_small_noise['value'].std()"
   ]
  },
  {
   "cell_type": "markdown",
   "metadata": {},
   "source": [
    "The less_mean column is the difference between the value column and its mean, while the div_std column is the result of dividing less_mean by the standard deviation of the value column.\n",
    "\n",
    "By subtracting the mean and dividing by the standard deviation, you are normalizing the data so that it is expressed in terms of standard deviations from the mean. This can make it easier to identify values that are significantly different from the majority of the data."
   ]
  },
  {
   "cell_type": "code",
   "execution_count": 26,
   "metadata": {},
   "outputs": [
    {
     "data": {
      "text/html": [
       "<div>\n",
       "<style scoped>\n",
       "    .dataframe tbody tr th:only-of-type {\n",
       "        vertical-align: middle;\n",
       "    }\n",
       "\n",
       "    .dataframe tbody tr th {\n",
       "        vertical-align: top;\n",
       "    }\n",
       "\n",
       "    .dataframe thead th {\n",
       "        text-align: right;\n",
       "    }\n",
       "</style>\n",
       "<table border=\"1\" class=\"dataframe\">\n",
       "  <thead>\n",
       "    <tr style=\"text-align: right;\">\n",
       "      <th></th>\n",
       "      <th>value</th>\n",
       "      <th>less_mean</th>\n",
       "      <th>div_std</th>\n",
       "    </tr>\n",
       "    <tr>\n",
       "      <th>timestamp</th>\n",
       "      <th></th>\n",
       "      <th></th>\n",
       "      <th></th>\n",
       "    </tr>\n",
       "  </thead>\n",
       "  <tbody>\n",
       "    <tr>\n",
       "      <th>2014-04-01 00:00:00</th>\n",
       "      <td>18.324919</td>\n",
       "      <td>-24.113435</td>\n",
       "      <td>-0.858829</td>\n",
       "    </tr>\n",
       "    <tr>\n",
       "      <th>2014-04-01 00:05:00</th>\n",
       "      <td>21.970327</td>\n",
       "      <td>-20.468026</td>\n",
       "      <td>-0.728993</td>\n",
       "    </tr>\n",
       "    <tr>\n",
       "      <th>2014-04-01 00:10:00</th>\n",
       "      <td>18.624806</td>\n",
       "      <td>-23.813547</td>\n",
       "      <td>-0.848148</td>\n",
       "    </tr>\n",
       "    <tr>\n",
       "      <th>2014-04-01 00:15:00</th>\n",
       "      <td>21.953684</td>\n",
       "      <td>-20.484669</td>\n",
       "      <td>-0.729586</td>\n",
       "    </tr>\n",
       "    <tr>\n",
       "      <th>2014-04-01 00:20:00</th>\n",
       "      <td>21.909120</td>\n",
       "      <td>-20.529234</td>\n",
       "      <td>-0.731173</td>\n",
       "    </tr>\n",
       "    <tr>\n",
       "      <th>...</th>\n",
       "      <td>...</td>\n",
       "      <td>...</td>\n",
       "      <td>...</td>\n",
       "    </tr>\n",
       "    <tr>\n",
       "      <th>2014-04-14 23:35:00</th>\n",
       "      <td>20.211195</td>\n",
       "      <td>-22.227159</td>\n",
       "      <td>-0.791647</td>\n",
       "    </tr>\n",
       "    <tr>\n",
       "      <th>2014-04-14 23:40:00</th>\n",
       "      <td>20.531041</td>\n",
       "      <td>-21.907313</td>\n",
       "      <td>-0.780255</td>\n",
       "    </tr>\n",
       "    <tr>\n",
       "      <th>2014-04-14 23:45:00</th>\n",
       "      <td>19.032127</td>\n",
       "      <td>-23.406226</td>\n",
       "      <td>-0.833640</td>\n",
       "    </tr>\n",
       "    <tr>\n",
       "      <th>2014-04-14 23:50:00</th>\n",
       "      <td>21.798801</td>\n",
       "      <td>-20.639552</td>\n",
       "      <td>-0.735102</td>\n",
       "    </tr>\n",
       "    <tr>\n",
       "      <th>2014-04-14 23:55:00</th>\n",
       "      <td>18.682620</td>\n",
       "      <td>-23.755733</td>\n",
       "      <td>-0.846089</td>\n",
       "    </tr>\n",
       "  </tbody>\n",
       "</table>\n",
       "<p>4032 rows × 3 columns</p>\n",
       "</div>"
      ],
      "text/plain": [
       "                         value  less_mean   div_std\n",
       "timestamp                                          \n",
       "2014-04-01 00:00:00  18.324919 -24.113435 -0.858829\n",
       "2014-04-01 00:05:00  21.970327 -20.468026 -0.728993\n",
       "2014-04-01 00:10:00  18.624806 -23.813547 -0.848148\n",
       "2014-04-01 00:15:00  21.953684 -20.484669 -0.729586\n",
       "2014-04-01 00:20:00  21.909120 -20.529234 -0.731173\n",
       "...                        ...        ...       ...\n",
       "2014-04-14 23:35:00  20.211195 -22.227159 -0.791647\n",
       "2014-04-14 23:40:00  20.531041 -21.907313 -0.780255\n",
       "2014-04-14 23:45:00  19.032127 -23.406226 -0.833640\n",
       "2014-04-14 23:50:00  21.798801 -20.639552 -0.735102\n",
       "2014-04-14 23:55:00  18.682620 -23.755733 -0.846089\n",
       "\n",
       "[4032 rows x 3 columns]"
      ]
     },
     "execution_count": 26,
     "metadata": {},
     "output_type": "execute_result"
    }
   ],
   "source": [
    "# show the df\n",
    "df_small_noise"
   ]
  },
  {
   "cell_type": "code",
   "execution_count": 27,
   "metadata": {},
   "outputs": [
    {
     "data": {
      "text/plain": [
       "(42.438353335806646, -7.342627387941552e-14, -2.616541242931684e-15)"
      ]
     },
     "execution_count": 27,
     "metadata": {},
     "output_type": "execute_result"
    }
   ],
   "source": [
    "# mean for each column \n",
    "df_small_noise['value'].mean(), df_small_noise['less_mean'].mean(), df_small_noise['div_std'].mean()"
   ]
  },
  {
   "cell_type": "code",
   "execution_count": 28,
   "metadata": {
    "scrolled": true
   },
   "outputs": [
    {
     "data": {
      "text/plain": [
       "(28.077122281262515, 28.077122281262508, 1.0000000000000018)"
      ]
     },
     "execution_count": 28,
     "metadata": {},
     "output_type": "execute_result"
    }
   ],
   "source": [
    "# std dev for each column\n",
    "df_small_noise['value'].std(), df_small_noise['less_mean'].std(), df_small_noise['div_std'].std()"
   ]
  },
  {
   "cell_type": "code",
   "execution_count": 29,
   "metadata": {},
   "outputs": [
    {
     "data": {
      "image/png": "[encoded data removed]",
      "text/plain": [
       "<Figure size 720x288 with 1 Axes>"
      ]
     },
     "metadata": {
      "needs_background": "light"
     },
     "output_type": "display_data"
    }
   ],
   "source": [
    "# Plot the standardized data\n",
    "fig, ax = plt.subplots(figsize=(10,4))\n",
    "\n",
    "# Use pandas to plot data frame.\n",
    "df_train_vals.plot(legend=False, ax=ax);"
   ]
  },
  {
   "cell_type": "code",
   "execution_count": 30,
   "metadata": {},
   "outputs": [
    {
     "data": {
      "text/plain": [
       "(4032, 1)"
      ]
     },
     "execution_count": 30,
     "metadata": {},
     "output_type": "execute_result"
    }
   ],
   "source": [
    "# Print shape of\n",
    "df_train_vals.shape"
   ]
  },
  {
   "cell_type": "markdown",
   "metadata": {},
   "source": [
    "In time series anomaly detection, a window refers to a fixed-size subset of the data. A sliding window is a window that moves forward through the data by a certain time increment, allowing you to perform some operation on the data within the window at each step.\n",
    "\n",
    "For example, you might use a sliding window to calculate the mean and standard deviation of the data within the window at each time step, and then use these values to identify anomalies in the data. By using a sliding window, you can identify anomalies in the data that may not be apparent if you were to only analyze the data as a whole or only look at indivdual values."
   ]
  },
  {
   "cell_type": "code",
   "execution_count": 31,
   "metadata": {},
   "outputs": [],
   "source": [
    "# amount of values per window\n",
    "window_size = 288"
   ]
  },
  {
   "cell_type": "markdown",
   "metadata": {},
   "source": [
    "Example of using windows:\n",
    "\n",
    "```python\n",
    "[1, 1, 2, 4, 5, 6, 7, 1, 2, 3, 4, 5]\n",
    "window_size = 3\n",
    "[1, 1, 2]\n",
    "[1, 2, 4]\n",
    "[2, 4, 5]\n",
    "[4, 5, 6]\n",
    "...\n",
    "```"
   ]
  },
  {
   "cell_type": "code",
   "execution_count": 32,
   "metadata": {},
   "outputs": [
    {
     "data": {
      "text/plain": [
       "12"
      ]
     },
     "execution_count": 32,
     "metadata": {},
     "output_type": "execute_result"
    }
   ],
   "source": [
    "# Window list example.\n",
    "L = [1, 1, 2, 4, 5, 6, 7, 1, 2, 3, 4, 5]\n",
    "# Example window size.\n",
    "win_size = 3\n",
    "# Length of L.\n",
    "len(L)"
   ]
  },
  {
   "cell_type": "code",
   "execution_count": 33,
   "metadata": {},
   "outputs": [
    {
     "data": {
      "text/plain": [
       "10"
      ]
     },
     "execution_count": 33,
     "metadata": {},
     "output_type": "execute_result"
    }
   ],
   "source": [
    "# Number of windows from L.\n",
    "len(L) - (win_size - 1)"
   ]
  },
  {
   "cell_type": "code",
   "execution_count": 34,
   "metadata": {},
   "outputs": [
    {
     "data": {
      "text/plain": [
       "10"
      ]
     },
     "execution_count": 34,
     "metadata": {},
     "output_type": "execute_result"
    }
   ],
   "source": [
    "# Remove brackets.\n",
    "len(L) - win_size + 1"
   ]
  },
  {
   "cell_type": "code",
   "execution_count": 35,
   "metadata": {},
   "outputs": [
    {
     "name": "stdout",
     "output_type": "stream",
     "text": [
      "[1, 1, 2]\n",
      "[1, 2, 4]\n",
      "[2, 4, 5]\n",
      "[4, 5, 6]\n",
      "[5, 6, 7]\n",
      "[6, 7, 1]\n",
      "[7, 1, 2]\n",
      "[1, 2, 3]\n",
      "[2, 3, 4]\n",
      "[3, 4, 5]\n"
     ]
    }
   ],
   "source": [
    "# Print the windows.\n",
    "for i in range(len(L) - win_size + 1):\n",
    "    print(L[i:i + win_size])"
   ]
  },
  {
   "cell_type": "code",
   "execution_count": 36,
   "metadata": {},
   "outputs": [
    {
     "data": {
      "text/plain": [
       "[[1, 1, 2],\n",
       " [1, 2, 4],\n",
       " [2, 4, 5],\n",
       " [4, 5, 6],\n",
       " [5, 6, 7],\n",
       " [6, 7, 1],\n",
       " [7, 1, 2],\n",
       " [1, 2, 3],\n",
       " [2, 3, 4],\n",
       " [3, 4, 5]]"
      ]
     },
     "execution_count": 36,
     "metadata": {},
     "output_type": "execute_result"
    }
   ],
   "source": [
    "# For accumulating the windows.\n",
    "wins = []\n",
    "\n",
    "# Generate the windows\n",
    "for i in range(len(L) - win_size + 1):\n",
    "    wins.append(L[i:i + win_size])\n",
    "\n",
    "wins"
   ]
  },
  {
   "cell_type": "code",
   "execution_count": 37,
   "metadata": {},
   "outputs": [
    {
     "data": {
      "text/plain": [
       "array([[1, 1, 2],\n",
       "       [1, 2, 4],\n",
       "       [2, 4, 5],\n",
       "       [4, 5, 6],\n",
       "       [5, 6, 7],\n",
       "       [6, 7, 1],\n",
       "       [7, 1, 2],\n",
       "       [1, 2, 3],\n",
       "       [2, 3, 4],\n",
       "       [3, 4, 5]])"
      ]
     },
     "execution_count": 37,
     "metadata": {},
     "output_type": "execute_result"
    }
   ],
   "source": [
    "# Create a 2D numpy array from wins.\n",
    "np.stack(wins)"
   ]
  },
  {
   "cell_type": "code",
   "execution_count": 38,
   "metadata": {},
   "outputs": [],
   "source": [
    "# create a list of sliding windows of size N from the input vals\n",
    "def windows(vals, N=window_size):\n",
    "  # empty list\n",
    "  L = []\n",
    "  # the number of windows is equal to the number of values minus the last and second last value\n",
    "  for i in range(len(vals) - N + 1):\n",
    "    # appends a slice of vals to L\n",
    "    L.append(vals[i:i+N])\n",
    "  # Stack\n",
    "  return np.stack(L)"
   ]
  },
  {
   "cell_type": "code",
   "execution_count": 39,
   "metadata": {},
   "outputs": [],
   "source": [
    "# apply the sliding windows to the training values\n",
    "x_train = windows(df_train_vals)"
   ]
  },
  {
   "cell_type": "code",
   "execution_count": 40,
   "metadata": {},
   "outputs": [
    {
     "data": {
      "text/plain": [
       "(array([-0.85882857]), array([-0.8460886]))"
      ]
     },
     "execution_count": 40,
     "metadata": {},
     "output_type": "execute_result"
    }
   ],
   "source": [
    "# print first value of first window and last value of last window\n",
    "x_train[0][0], x_train[-1][-1]"
   ]
  },
  {
   "cell_type": "code",
   "execution_count": 41,
   "metadata": {},
   "outputs": [
    {
     "data": {
      "text/plain": [
       "(value   -0.858829\n",
       " Name: 2014-04-01 00:00:00, dtype: float64,\n",
       " value   -0.846089\n",
       " Name: 2014-04-14 23:55:00, dtype: float64)"
      ]
     },
     "execution_count": 41,
     "metadata": {},
     "output_type": "execute_result"
    }
   ],
   "source": [
    "# showing that the values in x_train and df_train_vals are the same\n",
    "df_train_vals.iloc[0], df_train_vals.iloc[-1]"
   ]
  },
  {
   "cell_type": "code",
   "execution_count": 42,
   "metadata": {},
   "outputs": [
    {
     "data": {
      "text/plain": [
       "(3745, 288, 1)"
      ]
     },
     "execution_count": 42,
     "metadata": {},
     "output_type": "execute_result"
    }
   ],
   "source": [
    "# show number of windows and number of values in each window\n",
    "x_train.shape"
   ]
  },
  {
   "cell_type": "code",
   "execution_count": 45,
   "metadata": {},
   "outputs": [
    {
     "data": {
      "image/png": "[encoded data removed]",
      "text/plain": [
       "<Figure size 864x432 with 1 Axes>"
      ]
     },
     "metadata": {
      "needs_background": "light"
     },
     "output_type": "display_data"
    }
   ],
   "source": [
    "# visually demonstrate the window on the training values\n",
    "# amount of values per window\n",
    "window_no = 200\n",
    "\n",
    "# create a new figure object and an axis object, which are used to plot the data.\n",
    "fig, ax = plt.subplots(figsize=(12, 6))\n",
    "\n",
    "# training values\n",
    "y = df_train_vals['value'].values\n",
    "\n",
    "# plot training values\n",
    "ax.plot(np.arange(y.shape[0]), y, label='signal')\n",
    "\n",
    "# The first window.\n",
    "w = x_train[window_no].flatten()\n",
    "\n",
    "# plots the first window on the axis object ax. The x-values are generated in a similar way as before, \n",
    "# but this time they are shifted by the value of window_no using the + operator. \n",
    "ax.plot(np.arange(w.shape[0]) + window_no, w, label='window')\n",
    "\n",
    "ax.legend();"
   ]
  },
  {
   "cell_type": "markdown",
   "metadata": {},
   "source": [
    "## Neural Network\n",
    "\n",
    "***"
   ]
  },
  {
   "cell_type": "markdown",
   "metadata": {},
   "source": [
    "Finally, the script defines a simple autoencoder model  and trains it on the windowed version of the df_train_vals DataFrame. The autoencoder is then used to reconstruct the time series data in the validation set, and the reconstruction error is calculated for each data point. Data points with reconstruction error above a certain threshold are flagged as anomalies. The script then plots the original data and the reconstructed data, as well as the reconstruction error, to visualize the results of the anomaly detection."
   ]
  },
  {
   "cell_type": "code",
   "execution_count": 46,
   "metadata": {},
   "outputs": [
    {
     "data": {
      "text/plain": [
       "(3745, 288, 1)"
      ]
     },
     "execution_count": 46,
     "metadata": {},
     "output_type": "execute_result"
    }
   ],
   "source": [
    "x_train.shape"
   ]
  },
  {
   "cell_type": "code",
   "execution_count": 47,
   "metadata": {},
   "outputs": [],
   "source": [
    "#  This code defines a list of layers\n",
    "layers = [\n",
    "  #  instantiate a Keras tensor\n",
    "  #  # The shape of the tensor is the shape of the training data, with dimensions 1 and 2.\n",
    "  keras.layers.Input(shape=(x_train.shape[1], x_train.shape[2])),\n",
    "  # one-dimensional convolutional layer\n",
    "  keras.layers.Conv1D(\n",
    "    filters=32, kernel_size=7, padding=\"same\", strides=2, activation=\"relu\"),\n",
    "  # Dropout layer with a rate of 0.2\n",
    "  # This layer randomly sets \n",
    "  # a fraction of input units to 0 at each update during training, which helps prevent overfitting. https://keras.io/api/layers/regularization_layers/dropout/\n",
    "  keras.layers.Dropout(rate=0.2),\n",
    "  # one-dimensional convolutional layer\n",
    "  keras.layers.Conv1D(\n",
    "    filters=16, kernel_size=7, padding=\"same\", strides=2, activation=\"relu\"),\n",
    "  # Conv1DTranspose layer, which performs upsampling on the input data. https://www.tensorflow.org/api_docs/python/tf/keras/layers/Conv1DTranspose\n",
    "  keras.layers.Conv1DTranspose(\n",
    "    filters=16, kernel_size=7, padding=\"same\", strides=2, activation=\"relu\"),\n",
    "  # The sixth layer is a Dropout layer with a rate of 0.2.\n",
    "  keras.layers.Dropout(rate=0.2),\n",
    "  # Conv1DTranspose layer\n",
    "  keras.layers.Conv1DTranspose(\n",
    "    filters=32, kernel_size=7, padding=\"same\", strides=2, activation=\"relu\"),\n",
    "  # Conv1DTranspose layer\n",
    "  keras.layers.Conv1DTranspose(filters=1, kernel_size=7, padding=\"same\"),\n",
    "]"
   ]
  },
  {
   "cell_type": "markdown",
   "metadata": {},
   "source": [
    "In Keras, the Input function is used to instantiate a Keras tensor. A Keras tensor is a symbolic representation of a tensor-like object, which we augment with certain attributes that allow us to build a Keras model just by knowing the inputs and outputs of the model. https://keras.io/api/layers/core_layers/input/\n",
    "\n",
    "A layer is a class that represents a certain operation to be performed on the input data. Layers can be thought of as the building blocks of a Keras model, and can be combined in different ways to create a deep learning model. https://keras.io/api/layers/\n",
    "\n",
    "There are many types of layers available in Keras, including:\n",
    "\n",
    "-Dense layers, which are fully connected layers\n",
    "\n",
    "-Convolutional layers, which are used for processing data with a grid-like topology\n",
    "\n",
    "-Recurrent layers, which are used for processing sequential data\n",
    "\n",
    "-Transpose convolution layers, which are used for upsampling data\n",
    "\n",
    "-Pooling layers, which are used for down-sampling data"
   ]
  },
  {
   "cell_type": "markdown",
   "metadata": {},
   "source": [
    "A Conv1D layer is a one-dimensional convolutional layer that is used for processing sequences of data, such as one-dimensional arrays or time series. This layer convolves the input data with a set of filters, each of which is learned during training, to produce a set of output data."
   ]
  },
  {
   "cell_type": "code",
   "execution_count": 48,
   "metadata": {},
   "outputs": [],
   "source": [
    "# creates a Keras sequential model and specifies the layers defined in the previous code block as the layers for the model. https://keras.io/api/models/sequential/\n",
    "model = keras.Sequential(layers)"
   ]
  },
  {
   "cell_type": "code",
   "execution_count": 49,
   "metadata": {},
   "outputs": [],
   "source": [
    "# Creates an Adam optimizer with a learning rate of 0.001.\n",
    "optimizer = keras.optimizers.Adam(learning_rate=0.001)"
   ]
  },
  {
   "cell_type": "markdown",
   "metadata": {},
   "source": [
    "The Adam optimizer is a gradient-based optimization algorithm that can be used to update the model's weights during training. https://keras.io/api/optimizers/adam/"
   ]
  },
  {
   "cell_type": "code",
   "execution_count": 50,
   "metadata": {},
   "outputs": [],
   "source": [
    "# Compiles the model by specifying the optimizer and the loss function to use.\n",
    "model.compile(optimizer=optimizer, loss=\"mse\")"
   ]
  },
  {
   "cell_type": "markdown",
   "metadata": {},
   "source": [
    "The optimizer will be used to update the model weights during training, and the loss function will be used to evaluate the model's performance. In this case, the mean squared error (MSE) loss function is used.\n",
    "\n",
    "Mean squared error (MSE) is a measure of the difference between the predicted values and the true values in a dataset. It is used to evaluate the performance of a machine learning model. MSE is calculated by taking the sum of the squared differences between the predicted values and the true values, and then dividing by the number of samples in the dataset. The resulting value represents the average squared difference between the predicted and true values.\n",
    "\n",
    "The goal is to minimize the MSE in order to improve the model's prediction performance. It is a popular choice for loss functions because it is differentiable and easy to optimize using techniques such as gradient descent. However, MSE is sensitive to outliers, as large errors will have a disproportionate impact on the overall MSE value. This can be mitigated by using a loss function such as the mean absolute error (MAE), which is less sensitive to outliers. https://en.wikipedia.org/wiki/Mean_squared_error"
   ]
  },
  {
   "cell_type": "code",
   "execution_count": 51,
   "metadata": {},
   "outputs": [
    {
     "name": "stdout",
     "output_type": "stream",
     "text": [
      "Model: \"sequential\"\n",
      "_________________________________________________________________\n",
      " Layer (type)                Output Shape              Param #   \n",
      "=================================================================\n",
      " conv1d (Conv1D)             (None, 144, 32)           256       \n",
      "                                                                 \n",
      " dropout (Dropout)           (None, 144, 32)           0         \n",
      "                                                                 \n",
      " conv1d_1 (Conv1D)           (None, 72, 16)            3600      \n",
      "                                                                 \n",
      " conv1d_transpose (Conv1DTra  (None, 144, 16)          1808      \n",
      " nspose)                                                         \n",
      "                                                                 \n",
      " dropout_1 (Dropout)         (None, 144, 16)           0         \n",
      "                                                                 \n",
      " conv1d_transpose_1 (Conv1DT  (None, 288, 32)          3616      \n",
      " ranspose)                                                       \n",
      "                                                                 \n",
      " conv1d_transpose_2 (Conv1DT  (None, 288, 1)           225       \n",
      " ranspose)                                                       \n",
      "                                                                 \n",
      "=================================================================\n",
      "Total params: 9,505\n",
      "Trainable params: 9,505\n",
      "Non-trainable params: 0\n",
      "_________________________________________________________________\n"
     ]
    }
   ],
   "source": [
    "# prints a summary of the model's layers, output shapes, and number of parameters.\n",
    "model.summary()"
   ]
  },
  {
   "cell_type": "code",
   "execution_count": 52,
   "metadata": {},
   "outputs": [
    {
     "name": "stdout",
     "output_type": "stream",
     "text": [
      "Epoch 1/50\n",
      "27/27 [==============================] - 5s 117ms/step - loss: 0.5589 - val_loss: 0.0797\n",
      "Epoch 2/50\n",
      "27/27 [==============================] - 3s 98ms/step - loss: 0.0839 - val_loss: 0.0395\n",
      "Epoch 3/50\n",
      "27/27 [==============================] - 3s 98ms/step - loss: 0.0581 - val_loss: 0.0332\n",
      "Epoch 4/50\n",
      "27/27 [==============================] - 3s 98ms/step - loss: 0.0486 - val_loss: 0.0287\n",
      "Epoch 5/50\n",
      "27/27 [==============================] - 3s 99ms/step - loss: 0.0428 - val_loss: 0.0257\n",
      "Epoch 6/50\n",
      "27/27 [==============================] - 3s 119ms/step - loss: 0.0386 - val_loss: 0.0239\n",
      "Epoch 7/50\n",
      "27/27 [==============================] - 3s 120ms/step - loss: 0.0350 - val_loss: 0.0228\n",
      "Epoch 8/50\n",
      "27/27 [==============================] - 3s 119ms/step - loss: 0.0319 - val_loss: 0.0211\n",
      "Epoch 9/50\n",
      "27/27 [==============================] - 4s 161ms/step - loss: 0.0294 - val_loss: 0.0192\n",
      "Epoch 10/50\n",
      "27/27 [==============================] - 258s 10s/step - loss: 0.0273 - val_loss: 0.0185\n",
      "Epoch 11/50\n",
      "27/27 [==============================] - 5s 175ms/step - loss: 0.0254 - val_loss: 0.0181\n",
      "Epoch 12/50\n",
      "27/27 [==============================] - 4s 156ms/step - loss: 0.0240 - val_loss: 0.0171\n",
      "Epoch 13/50\n",
      "27/27 [==============================] - 4s 156ms/step - loss: 0.0228 - val_loss: 0.0167\n",
      "Epoch 14/50\n",
      "27/27 [==============================] - 5s 184ms/step - loss: 0.0218 - val_loss: 0.0172\n",
      "Epoch 15/50\n",
      "27/27 [==============================] - 4s 145ms/step - loss: 0.0207 - val_loss: 0.0165\n",
      "Epoch 16/50\n",
      "27/27 [==============================] - 3s 125ms/step - loss: 0.0199 - val_loss: 0.0152\n",
      "Epoch 17/50\n",
      "27/27 [==============================] - 3s 119ms/step - loss: 0.0191 - val_loss: 0.0157\n",
      "Epoch 18/50\n",
      "27/27 [==============================] - 3s 122ms/step - loss: 0.0181 - val_loss: 0.0158\n",
      "Epoch 19/50\n",
      "27/27 [==============================] - 3s 120ms/step - loss: 0.0174 - val_loss: 0.0157\n",
      "Epoch 20/50\n",
      "27/27 [==============================] - 3s 119ms/step - loss: 0.0166 - val_loss: 0.0161\n",
      "Epoch 21/50\n",
      "27/27 [==============================] - 3s 125ms/step - loss: 0.0160 - val_loss: 0.0141\n",
      "Epoch 22/50\n",
      "27/27 [==============================] - 3s 123ms/step - loss: 0.0153 - val_loss: 0.0146\n",
      "Epoch 23/50\n",
      "27/27 [==============================] - 3s 122ms/step - loss: 0.0147 - val_loss: 0.0152\n",
      "Epoch 24/50\n",
      "27/27 [==============================] - 4s 135ms/step - loss: 0.0142 - val_loss: 0.0154\n",
      "Epoch 25/50\n",
      "27/27 [==============================] - 4s 133ms/step - loss: 0.0137 - val_loss: 0.0155\n",
      "Epoch 26/50\n",
      "27/27 [==============================] - 4s 135ms/step - loss: 0.0133 - val_loss: 0.0166\n"
     ]
    }
   ],
   "source": [
    "# trains the model on the training data as input and output using the fit() method.\n",
    "# the EarlyStopping callback is used to stop the training early if the validation loss does not improve after a \n",
    "# certain number of epochs (specified by the patience argument).\n",
    "history = model.fit(\n",
    "    x_train,\n",
    "    x_train,\n",
    "    epochs=50,\n",
    "    batch_size=128,\n",
    "    validation_split=0.1,\n",
    "    callbacks=[\n",
    "        keras.callbacks.EarlyStopping(monitor=\"val_loss\", patience=5, mode=\"min\")\n",
    "    ],\n",
    ")"
   ]
  },
  {
   "cell_type": "markdown",
   "metadata": {},
   "source": [
    "The model is trained for 50 epochs (iterations over the entire training dataset), with a batch size of 128 (the number of samples per gradient update). The training process is set to run until the validation loss stops improving for 5 epochs using an early stopping callback. The validation_split parameter specifies the fraction of the training data to be used for validation, in this case 10%.\n",
    "\n",
    "During training, the model will iterate over the training data, applying the layers in the model to the input data and using the optimizer to update the model weights based on the calculated loss. The model's performance will be evaluated on the validation set at the end of each epoch and the results will be logged in the history object returned by the fit() method. This object can be used to plot the training and validation loss and accuracy over time, which can be useful for analyzing the model's training process and identifying overfitting or underfitting."
   ]
  },
  {
   "cell_type": "markdown",
   "metadata": {},
   "source": [
    "## Evaluation\n",
    "\n",
    "***"
   ]
  },
  {
   "cell_type": "code",
   "execution_count": 53,
   "metadata": {},
   "outputs": [
    {
     "data": {
      "text/plain": [
       "[0.558883011341095,\n",
       " 0.08390140533447266,\n",
       " 0.058125995099544525,\n",
       " 0.04858787730336189,\n",
       " 0.04284460097551346,\n",
       " 0.03859386220574379,\n",
       " 0.0349794365465641,\n",
       " 0.03188213333487511,\n",
       " 0.029373927041888237,\n",
       " 0.02727406844496727,\n",
       " 0.025429178029298782,\n",
       " 0.02404918521642685,\n",
       " 0.022789934650063515,\n",
       " 0.021802539005875587,\n",
       " 0.020697832107543945,\n",
       " 0.019913436844944954,\n",
       " 0.01907232031226158,\n",
       " 0.018140753731131554,\n",
       " 0.017422303557395935,\n",
       " 0.016637517139315605,\n",
       " 0.01599125750362873,\n",
       " 0.015308883041143417,\n",
       " 0.014739195816218853,\n",
       " 0.014185009524226189,\n",
       " 0.013697966933250427,\n",
       " 0.013258250430226326]"
      ]
     },
     "execution_count": 53,
     "metadata": {},
     "output_type": "execute_result"
    }
   ],
   "source": [
    "# retrieves the list of training loss values recorded during the training process\n",
    "history.history[\"loss\"]"
   ]
  },
  {
   "cell_type": "code",
   "execution_count": 54,
   "metadata": {},
   "outputs": [
    {
     "data": {
      "text/plain": [
       "[0.07965388149023056,\n",
       " 0.03947071358561516,\n",
       " 0.03320853039622307,\n",
       " 0.02872765064239502,\n",
       " 0.025685187429189682,\n",
       " 0.023907704278826714,\n",
       " 0.0227709598839283,\n",
       " 0.02108161896467209,\n",
       " 0.019247429445385933,\n",
       " 0.018482735380530357,\n",
       " 0.0180740375071764,\n",
       " 0.017071885988116264,\n",
       " 0.01668436825275421,\n",
       " 0.017174378037452698,\n",
       " 0.016546666622161865,\n",
       " 0.015187013894319534,\n",
       " 0.01566588506102562,\n",
       " 0.01575378328561783,\n",
       " 0.015713786706328392,\n",
       " 0.016137009486556053,\n",
       " 0.01413212064653635,\n",
       " 0.014623268507421017,\n",
       " 0.015229192562401295,\n",
       " 0.015359687618911266,\n",
       " 0.015487453900277615,\n",
       " 0.016570493578910828]"
      ]
     },
     "execution_count": 54,
     "metadata": {},
     "output_type": "execute_result"
    }
   ],
   "source": [
    "# retrieve the list of validation loss values\n",
    "history.history[\"val_loss\"]"
   ]
  },
  {
   "cell_type": "markdown",
   "metadata": {},
   "source": [
    "After training, the code plots the training and validation loss values using Matplotlib. This can be used to evaluate the performance of the model and identify any issues such as overfitting."
   ]
  },
  {
   "cell_type": "code",
   "execution_count": 55,
   "metadata": {},
   "outputs": [
    {
     "data": {
      "image/png": "[encoded data removed]",
      "text/plain": [
       "<Figure size 720x432 with 1 Axes>"
      ]
     },
     "metadata": {
      "needs_background": "light"
     },
     "output_type": "display_data"
    }
   ],
   "source": [
    "# plot the training and validation loss values\n",
    "fig, ax = plt.subplots(figsize=(10, 6))\n",
    "\n",
    "# plot training loss\n",
    "ax.plot(history.history[\"loss\"], label=\"Training Loss\")\n",
    "# plot Validation loss\n",
    "ax.plot(history.history[\"val_loss\"], label=\"Validation Loss\")\n",
    "\n",
    "# display a legend for the plot\n",
    "ax.legend();"
   ]
  },
  {
   "cell_type": "markdown",
   "metadata": {},
   "source": [
    "The purpose of generating predictions for the training data is typically to evaluate the model's performance. You can compare the predicted values to the true values to assess the accuracy of the model. One common metric for evaluating the performance of a regression model is the mean absolute error (MAE), which is the average absolute difference between the predicted and true values. You can calculate the MAE loss for the training data by taking the mean absolute difference between x_train_pred and x_train."
   ]
  },
  {
   "cell_type": "code",
   "execution_count": 56,
   "metadata": {
    "scrolled": true
   },
   "outputs": [
    {
     "name": "stdout",
     "output_type": "stream",
     "text": [
      "118/118 [==============================] - 2s 13ms/step\n"
     ]
    }
   ],
   "source": [
    "# predict the values using the training values\n",
    "x_train_pred = model.predict(x_train)"
   ]
  },
  {
   "cell_type": "code",
   "execution_count": 57,
   "metadata": {},
   "outputs": [],
   "source": [
    "# Calculate loss getting the mean of the absolute difference between the expected and predicted values\n",
    "train_mae_loss = np.mean(np.abs(x_train_pred - x_train), axis=1)"
   ]
  },
  {
   "cell_type": "markdown",
   "metadata": {},
   "source": [
    "As previously mentioned, the MAE loss can be used as a metric to evaluate the performance of the model. A smaller MAE loss indicates that the model is making more accurate predictions, while a larger MAE loss indicates that the model's predictions are less accurate. By comparing the MAE loss for the training data to the MAE loss for the validation or test data, you can assess the model's generalization ability and identify any potential issues such as overfitting. https://en.wikipedia.org/wiki/Mean_absolute_error"
   ]
  },
  {
   "cell_type": "markdown",
   "metadata": {},
   "source": [
    "A histogram plotting the mean absolute error (MAE) can be used to visualize the distribution of error in the model's predictions. \n",
    "\n",
    "If the histogram is centered around a small MAE value and has a narrow spread, it suggests that the model is making relatively accurate predictions. On the other hand, if the histogram is centered around a large MAE value or has a wide spread, it suggests that the model's predictions are less accurate.\n",
    "\n",
    "By examining the shape and characteristics of the MAE histogram, you can get a sense of the model's overall performance and identify any potential issues such as bias or variance. You can also use the MAE histogram to compare the performance of different models or to evaluate the effect of changes to the model or the data on the model's accuracy."
   ]
  },
  {
   "cell_type": "code",
   "execution_count": 58,
   "metadata": {
    "scrolled": true
   },
   "outputs": [
    {
     "data": {
      "image/png": "[encoded data removed]",
      "text/plain": [
       "<Figure size 720x432 with 1 Axes>"
      ]
     },
     "metadata": {
      "needs_background": "light"
     },
     "output_type": "display_data"
    }
   ],
   "source": [
    "# plot a histogram of the training mean absolute error (MAE) loss values.\n",
    "fig, ax = plt.subplots(figsize=(10, 6))\n",
    "\n",
    "# plot hist\n",
    "ax.hist(train_mae_loss, bins=50)\n",
    "\n",
    "# set the x-axis label\n",
    "ax.set_xlabel(\"Train MAE loss\")\n",
    "# set the y-axis label\n",
    "ax.set_ylabel(\"No of samples\");"
   ]
  },
  {
   "cell_type": "markdown",
   "metadata": {},
   "source": [
    "To evaluate a MAE histogram, you should look at the overall shape of the distribution, the range of the errors, and the magnitude of the errors, and consider how these factors relate to the context and goals of the problem.\n",
    "\n",
    "The histogram seems to have a normal distribution, with most of the errors concentrated around the mean and a symmetrical spread. This is desirable as it indicates that the model is making consistent errors. However, it does seem to be positively skewed. There is also a fairly large range of mae values, which it indicates that the model is making relatively inconsistent errors across the dataset.\n",
    "\n",
    "The magnitude of the MAE values should also be considered. A smaller MAE is generally better, as it indicates that the model is making smaller errors on average. \n",
    "\n",
    "\n",
    "\n",
    "\n",
    "\n"
   ]
  },
  {
   "cell_type": "code",
   "execution_count": 59,
   "metadata": {},
   "outputs": [
    {
     "data": {
      "text/plain": [
       "0.10378565694099415"
      ]
     },
     "execution_count": 59,
     "metadata": {},
     "output_type": "execute_result"
    }
   ],
   "source": [
    "# Get reconstruction loss threshold.\n",
    "threshold = np.max(train_mae_loss)\n",
    "\n",
    "# print threshold\n",
    "threshold"
   ]
  },
  {
   "cell_type": "markdown",
   "metadata": {},
   "source": [
    "Reconstruction loss is a measure of how well a model is able to reconstruct a given input using a learned representation of the data. The reconstruction loss threshold is a value that is used to determine whether a given input is an anomaly or not. If the reconstruction loss for an input is greater than the threshold, the input is considered an anomaly. The threshold value is typically chosen based on the needs of the application and the characteristics of the data. It may be set based on the expected range of reconstruction losses for normal data, or it may be set based on a desired false positive rate or false negative rate.\n",
    "\n",
    "Anomalies are data points where the reconstruction loss is higher than the threshold https://towardsdatascience.com/anomaly-detection-using-autoencoders-5b032178a1ea"
   ]
  },
  {
   "cell_type": "code",
   "execution_count": 60,
   "metadata": {},
   "outputs": [
    {
     "data": {
      "image/png": "[encoded data removed]",
      "text/plain": [
       "<Figure size 720x432 with 1 Axes>"
      ]
     },
     "metadata": {
      "needs_background": "light"
     },
     "output_type": "display_data"
    }
   ],
   "source": [
    "# plot training set against what the neural network is predicting\n",
    "fig, ax = plt.subplots(figsize=(10, 6))\n",
    "\n",
    "# plot training set\n",
    "ax.plot(x_train[0])\n",
    "\n",
    "# plot predictions\n",
    "ax.plot(x_train_pred[0]);"
   ]
  },
  {
   "cell_type": "code",
   "execution_count": 61,
   "metadata": {},
   "outputs": [],
   "source": [
    "# normalize the data containing anomalies\n",
    "df_test_value = (df_daily_jumpsup - train_mean) / train_std"
   ]
  },
  {
   "cell_type": "code",
   "execution_count": 62,
   "metadata": {},
   "outputs": [
    {
     "data": {
      "image/png": "[encoded data removed]",
      "text/plain": [
       "<Figure size 720x432 with 1 Axes>"
      ]
     },
     "metadata": {
      "needs_background": "light"
     },
     "output_type": "display_data"
    }
   ],
   "source": [
    "# plot noramized data\n",
    "fig, ax = plt.subplots(figsize=(10, 6))\n",
    "df_test_value.plot(legend=False, ax=ax);"
   ]
  },
  {
   "cell_type": "code",
   "execution_count": 63,
   "metadata": {},
   "outputs": [
    {
     "data": {
      "text/plain": [
       "(3745, 288, 1)"
      ]
     },
     "execution_count": 63,
     "metadata": {},
     "output_type": "execute_result"
    }
   ],
   "source": [
    "# Create windows from test values.\n",
    "x_test = windows(df_test_value.values)\n",
    "\n",
    "x_test.shape"
   ]
  },
  {
   "cell_type": "code",
   "execution_count": 64,
   "metadata": {},
   "outputs": [
    {
     "name": "stdout",
     "output_type": "stream",
     "text": [
      "118/118 [==============================] - 1s 12ms/step\n"
     ]
    }
   ],
   "source": [
    "# generate predictions for the windowed data\n",
    "x_test_pred = model.predict(x_test)"
   ]
  },
  {
   "cell_type": "markdown",
   "metadata": {},
   "source": [
    "model.predict is used to generate predictions for a given model on a new set of data.\n",
    "\n",
    "It takes an array of input data and returns an array of predictions for each sample in the input data. The input data should have the same structure as the training data that was used to train the model. https://www.activestate.com/resources/quick-reads/how-to-use-a-model-to-do-predictions-with-keras/"
   ]
  },
  {
   "cell_type": "code",
   "execution_count": 65,
   "metadata": {},
   "outputs": [
    {
     "data": {
      "text/plain": [
       "array([[0.08230355],\n",
       "       [0.08502706],\n",
       "       [0.08529266],\n",
       "       ...,\n",
       "       [0.08818845],\n",
       "       [0.08704033],\n",
       "       [0.09049538]])"
      ]
     },
     "execution_count": 65,
     "metadata": {},
     "output_type": "execute_result"
    }
   ],
   "source": [
    "# caculate the mae loss for the predicted values\n",
    "test_mae_loss = np.mean(np.abs(x_test_pred - x_test), axis=1)\n",
    "\n",
    "test_mae_loss"
   ]
  },
  {
   "cell_type": "code",
   "execution_count": 66,
   "metadata": {},
   "outputs": [
    {
     "data": {
      "text/plain": [
       "array([0.08230355, 0.08502706, 0.08529266, ..., 0.08818845, 0.08704033,\n",
       "       0.09049538])"
      ]
     },
     "execution_count": 66,
     "metadata": {},
     "output_type": "execute_result"
    }
   ],
   "source": [
    "# reshape into a 1d array\n",
    "test_mae_loss = test_mae_loss.reshape((-1))\n",
    "\n",
    "test_mae_loss"
   ]
  },
  {
   "cell_type": "code",
   "execution_count": 67,
   "metadata": {
    "scrolled": true
   },
   "outputs": [
    {
     "data": {
      "image/png": "[encoded data removed]",
      "text/plain": [
       "<Figure size 720x432 with 1 Axes>"
      ]
     },
     "metadata": {
      "needs_background": "light"
     },
     "output_type": "display_data"
    }
   ],
   "source": [
    "# plot the prediction mae loss\n",
    "fig, ax = plt.subplots(figsize=(10, 6))\n",
    "\n",
    "# plot the histogram\n",
    "ax.hist(test_mae_loss, bins=50)\n",
    "\n",
    "# set x and y labels\n",
    "ax.set_xlabel(\"test MAE loss\")\n",
    "ax.set_ylabel(\"No of samples\");"
   ]
  },
  {
   "cell_type": "markdown",
   "metadata": {},
   "source": [
    "Identify all samples that have an MAE loss greater than a given threshold by creating a boolean array called anomalies."
   ]
  },
  {
   "cell_type": "code",
   "execution_count": 68,
   "metadata": {},
   "outputs": [
    {
     "data": {
      "text/plain": [
       "405"
      ]
     },
     "execution_count": 68,
     "metadata": {},
     "output_type": "execute_result"
    }
   ],
   "source": [
    "# Detect all the samples which are anomalies.\n",
    "anomalies = test_mae_loss > threshold\n",
    "\n",
    "# NUmber of anomalies.\n",
    "np.sum(anomalies)"
   ]
  },
  {
   "cell_type": "markdown",
   "metadata": {},
   "source": [
    "Find all time steps in the time series that have window_size consecutive samples before and after them that are anomalies (i.e. have an MAE loss greater than the threshold). The time steps that meet this criterion are stored in a list called inds."
   ]
  },
  {
   "cell_type": "code",
   "execution_count": 69,
   "metadata": {},
   "outputs": [],
   "source": [
    "# data i is an anomaly if samples [(i - timesteps + 1) to (i)] are anomalies\n",
    "inds = []\n",
    "\n",
    "for i in range(window_size - 1, len(df_test_value) - window_size + 1):\n",
    "    if np.all(anomalies[i - window_size + 1 : i]):\n",
    "        inds.append(i)"
   ]
  },
  {
   "cell_type": "code",
   "execution_count": 70,
   "metadata": {},
   "outputs": [],
   "source": [
    "# Subset the time series data using the indices in inds and store it in a new data frame called df_subset.\n",
    "df_subset = df_daily_jumpsup.iloc[inds]"
   ]
  },
  {
   "cell_type": "code",
   "execution_count": 71,
   "metadata": {},
   "outputs": [
    {
     "data": {
      "image/png": "[encoded data removed]",
      "text/plain": [
       "<Figure size 720x432 with 1 Axes>"
      ]
     },
     "metadata": {
      "needs_background": "light"
     },
     "output_type": "display_data"
    }
   ],
   "source": [
    "# Plot the original time series data and the subset of the time series data that contain anomalies.\n",
    "fig, ax = plt.subplots(figsize=(10, 6))\n",
    "\n",
    "df_daily_jumpsup.plot(legend=False, ax=ax)\n",
    "\n",
    "# plot anomalies in red\n",
    "df_subset.plot(legend=False, ax=ax, color=\"r\");"
   ]
  },
  {
   "cell_type": "markdown",
   "metadata": {},
   "source": [
    "## Conclusion"
   ]
  },
  {
   "cell_type": "markdown",
   "metadata": {},
   "source": [
    "The process for identifying anomalies involves computing the MAE loss for each sample in a test set, setting a threshold for identifying anomalies, and then identifying time steps in the time series data that have window_size consecutive samples before and after them that have an MAE loss greater than the threshold. The resulting subset of the time series data is then plotted to visualize the identified anomalies.\n",
    "\n",
    "From looking at the above plot, we can see that the anomaly has been corrected predicted. \n",
    "\n",
    "It is important to note that this code is only a part of the process for identifying anomalies in a time series data. In order to effectively identify anomalies, it may be necessary to try different values for the threshold and window size, as well as to consider other methods for identifying anomalies in the time series data. It is also possible that additional preprocessing or feature engineering steps may be necessary to improve the accuracy of the anomaly detection process."
   ]
  },
  {
   "cell_type": "markdown",
   "metadata": {},
   "source": [
    "***\n",
    "\n",
    "## End"
   ]
  }
 ],
 "metadata": {
  "kernelspec": {
   "display_name": "Python 3",
   "language": "python",
   "name": "python3"
  },
  "language_info": {
   "codemirror_mode": {
    "name": "ipython",
    "version": 3
   },
   "file_extension": ".py",
   "mimetype": "text/x-python",
   "name": "python",
   "nbconvert_exporter": "python",
   "pygments_lexer": "ipython3",
   "version": "3.8.8"
  }
 },
 "nbformat": 4,
 "nbformat_minor": 4
}
