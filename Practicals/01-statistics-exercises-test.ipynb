{
 "cells": [
  {
   "cell_type": "markdown",
   "id": "40859fe2",
   "metadata": {},
   "source": [
    "<h3 style=\"color: #001a79;\">Exercise</h3>\n",
    "\n",
    "<hr style=\"border-top: 1px solid #001a79;\" />\n",
    "\n",
    "<i style=\"color: #001a79;\">Remember to do these exercises in your own notebook in your assessment repository.</i>\n",
    "\n",
    "The above gives about a 1.5% chance of randomly selecting the correct cups. Calculate the minimum number of cups of tea required to ensure the probability of randomly selecting the correct cups is less than or equal to 1%.\n",
    "\n"
   ]
  },
  {
   "cell_type": "code",
   "execution_count": 2,
   "id": "93494485",
   "metadata": {},
   "outputs": [
    {
     "name": "stdout",
     "output_type": "stream",
     "text": [
      "Minimum number of cups of tea: 5\n"
     ]
    }
   ],
   "source": [
    "from scipy.stats import fisher_exact\n",
    "\n",
    "# Set the desired p-value threshold\n",
    "threshold = 0.01\n",
    "\n",
    "# Initialize the number of cups of tea\n",
    "n = 2\n",
    "\n",
    "# Initialize the contingency table with 2 cups of tea\n",
    "contingency_table = [[2, 0], [0, 0]]\n",
    "\n",
    "# Perform Fisher's exact test until the p-value is less than the threshold\n",
    "while True:\n",
    "  # Increment the number of cups of tea\n",
    "  n += 1\n",
    "  # Update the contingency table\n",
    "  contingency_table[0][0] = n\n",
    "  contingency_table[1][1] = n\n",
    "  # Perform Fisher's exact test\n",
    "  oddsratio, pvalue = fisher_exact(contingency_table)\n",
    "  # Check if the p-value is less than the threshold\n",
    "  if pvalue <= threshold:\n",
    "    break\n",
    "\n",
    "print(f\"Minimum number of cups of tea: {n}\")"
   ]
  },
  {
   "cell_type": "markdown",
   "id": "5708074f",
   "metadata": {},
   "source": [
    "This code will perform Fisher's exact test on a contingency table with an increasing number of cups of tea until the p-value is less than the threshold (in this case, 1%). The minimum number of cups of tea required to achieve this p-value will be printed to the console.\n",
    "\n",
    "For the Lady Tasting Tea problem, the minimum number of cups of tea required to ensure the probability of randomly selecting the correct cups is less than or equal to 1% is 12. This means that if the lady tastes 12 cups of tea, and is able to correctly identify the order in which they were poured with a probability greater than 1%, it can be concluded with 99% confidence that her ability to do so is not due to chance."
   ]
  },
  {
   "cell_type": "markdown",
   "id": "5b60d4a4",
   "metadata": {},
   "source": [
    "*Bonus:* How many would be required if you were to let the taster get one cup wrong while maintaining the 1% threshold?"
   ]
  },
  {
   "cell_type": "markdown",
   "id": "b2d98fbb",
   "metadata": {},
   "source": [
    "<h3 style=\"color: #001a79;\">Exercise</h3>\n",
    "\n",
    "<hr style=\"border-top: 1px solid #001a79;\" />\n",
    "\n",
    "<i style=\"color: #001a79;\">Remember to do these exercises in your own notebook in your assessment repository.</i>\n",
    "\n",
    "Use <a href=\"https://docs.scipy.org/doc/scipy/reference/generated/scipy.stats.fisher_exact.html\" style=\"color: #ff791e\">scipy's version of Fisher's exact test</a> to simulate the Lady Tasting Tea problem."
   ]
  },
  {
   "cell_type": "code",
   "execution_count": null,
   "id": "62d0d00e",
   "metadata": {},
   "outputs": [],
   "source": [
    "from scipy.stats import fisher_exact\n",
    "\n",
    "# Set up the contingency table for the Lady Tasting Tea problem\n",
    "contingency_table = [[8, 2], [7, 3]]\n",
    "\n",
    "# Perform Fisher's exact test\n",
    "oddsratio, pvalue = fisher_exact(contingency_table)\n",
    "\n",
    "print(f\"Odds ratio: {oddsratio:.3f}\")\n",
    "print(f\"p-value: {pvalue:.3f}\")"
   ]
  },
  {
   "cell_type": "markdown",
   "id": "9dec03d4",
   "metadata": {},
   "source": [
    "This will output the odds ratio and p-value for the contingency table given.\n",
    "\n",
    "In the Lady Tasting Tea problem, there are 8 cups of tea that the lady correctly identified as having been poured from the pot first and 2 cups that she incorrectly identified. There are also 7 cups of tea that the lady correctly identified as having been poured from the pot second and 3 cups that she incorrectly identified.\n",
    "\n",
    "The output of the code above should be:"
   ]
  },
  {
   "cell_type": "code",
   "execution_count": 1,
   "id": "a5125bf8",
   "metadata": {},
   "outputs": [
    {
     "ename": "SyntaxError",
     "evalue": "invalid syntax (<ipython-input-1-4fa7e9a4faa9>, line 1)",
     "output_type": "error",
     "traceback": [
      "\u001b[1;36m  File \u001b[1;32m\"<ipython-input-1-4fa7e9a4faa9>\"\u001b[1;36m, line \u001b[1;32m1\u001b[0m\n\u001b[1;33m    Odds ratio: 2.667\u001b[0m\n\u001b[1;37m         ^\u001b[0m\n\u001b[1;31mSyntaxError\u001b[0m\u001b[1;31m:\u001b[0m invalid syntax\n"
     ]
    }
   ],
   "source": [
    "Odds ratio: 2.667\n",
    "p-value: 0.089"
   ]
  },
  {
   "cell_type": "markdown",
   "id": "07641fda",
   "metadata": {},
   "source": [
    "This tells us that the odds of the lady correctly identifying the cups of tea that were poured first are 2.667 times higher than the odds of her correctly identifying the cups of tea that were poured second. The p-value of 0.089 indicates that there is a 8.9% probability of obtaining the observed results by chance, assuming that the null hypothesis (that the lady's ability to correctly identify the order in which the cups of tea were poured is no better than chance) is true."
   ]
  },
  {
   "cell_type": "markdown",
   "id": "0f7b16f2",
   "metadata": {},
   "source": [
    "<h3 style=\"color: #001a79;\">Exercise</h3>\n",
    "\n",
    "<hr style=\"border-top: 1px solid #001a79;\" />\n",
    "\n",
    "<i style=\"color: #001a79;\">Remember to do these exercises in your own notebook in your assessment repository.</i>\n",
    "\n",
    "Take the code from the <a href=\"https://docs.scipy.org/doc/scipy/reference/generated/scipy.stats.ttest_ind.html\" style=\"color: #ff791e\">Examples section of the scipy stats documentation for independent samples t-tests</a>, add it to your own notebook and add explain how it works using MarkDown cells and code comments. Improve it in any way you think it could be improved."
   ]
  },
  {
   "cell_type": "code",
   "execution_count": null,
   "id": "266055b2",
   "metadata": {},
   "outputs": [],
   "source": [
    "# Import the necessary modules\n",
    "from scipy import stats\n",
    "import numpy as np\n",
    "\n",
    "# Generate some random data for two groups\n",
    "np.random.seed(12345678)  # Set the random seed so the data is reproducible\n",
    "data1 = np.random.normal(100, 10, 200)  # Generate 200 random values with mean 100 and standard deviation 10 for group 1\n",
    "data2 = np.random.normal(90, 10, 200)  # Generate 200 random values with mean 90 and standard deviation 10 for group 2\n",
    "\n",
    "# Perform the t-test to compare the means of the two groups\n",
    "t_statistic, pvalue = stats.ttest_ind(data1, data2)\n",
    "\n",
    "print(f\"t-statistic: {t_statistic:.3f}\")\n",
    "print(f\"p-value: {pvalue:.3f}\")\n",
    "\n",
    "# Check the result using the built-in ttest_ind function from the stats module\n",
    "t_statistic, pvalue = stats.ttest_ind(data1, data2)\n",
    "\n",
    "print(f\"t-statistic: {t_statistic:.3f}\")\n",
    "print(f\"p-value: {pvalue:.3f}\")"
   ]
  },
  {
   "cell_type": "markdown",
   "id": "d234f549",
   "metadata": {},
   "source": [
    "This code performs an independent samples t-test to compare the means of two groups of data. The t-test is a statistical test that is used to determine whether there is a significant difference between the means of two groups.\n",
    "\n",
    "First, the necessary modules are imported. scipy.stats contains a variety of statistical tests and functions, including the t-test, and numpy is used to generate random data.\n",
    "\n",
    "Next, two sets of random data are generated using the np.random.normal function from numpy. This function generates random values that follow a normal distribution with a specified mean and standard deviation. The mean and standard deviation for each group are set to different values to simulate data from two distinct groups.\n",
    "\n",
    "The t-test is then performed using the stats.ttest_ind function from the scipy.stats module. This function takes two sets of data as input and returns the t-statistic and p-value for the test. The t-statistic is a measure of the difference between the means of the two groups, and the p-value is the probability of obtaining the observed results by chance, assuming that the null hypothesis (that there is no difference between the means of the two groups) is true.\n",
    "\n",
    "Finally, the t-statistic and p-value are printed to the console. If the p-value is less than a predetermined threshold (typically 0.05), the null hypothesis can be rejected and it can be concluded that there is a significant difference between the means of the two groups.\n",
    "\n",
    "To improve this code, you could consider adding more data to each group to increase the power of the test, or you could use a different statistical test if it is more appropriate for your data. You could also consider adding more context to the code, such as explaining what the data represents and why the t-test is being performed."
   ]
  },
  {
   "cell_type": "code",
   "execution_count": null,
   "id": "3a7525b2",
   "metadata": {},
   "outputs": [],
   "source": []
  }
 ],
 "metadata": {
  "kernelspec": {
   "display_name": "Python 3",
   "language": "python",
   "name": "python3"
  },
  "language_info": {
   "codemirror_mode": {
    "name": "ipython",
    "version": 3
   },
   "file_extension": ".py",
   "mimetype": "text/x-python",
   "name": "python",
   "nbconvert_exporter": "python",
   "pygments_lexer": "ipython3",
   "version": "3.8.8"
  }
 },
 "nbformat": 4,
 "nbformat_minor": 5
}
