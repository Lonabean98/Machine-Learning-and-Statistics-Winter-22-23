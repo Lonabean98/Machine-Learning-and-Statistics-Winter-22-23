{
 "cells": [
  {
   "cell_type": "markdown",
   "id": "b47d9619",
   "metadata": {},
   "source": [
    "<h3 style=\"color: #001a79;\">Exercise</h3>\n",
    "\n",
    "<hr style=\"border-top: 1px solid #001a79;\" />\n",
    "\n",
    "<i style=\"color: #001a79;\">Remember to do these exercises in your own notebook in your assessment repository.</i>\n",
    "\n",
    "Use numpy's polyfit to fit polynomials to the following two data sets.\n",
    "\n",
    "Data Set 1:\n",
    "```python\n",
    "x = [0.0, 1.0, 2.0, 3.0, 4.0, 5.0, 6.0, 7.0, 8.0, 9.0, 10.0, 11.0, 12.0, 13.0, 14.0, 15.0]\n",
    "y = [1.3, 1.2, 9.4, 27.3, 63.1, 126.5, 217.3, 341.5, 512.8, 729.3, 1001.8, 1332.7, 1728.9, 2198.8, 2743.7, 3376.7]\n",
    "```\n",
    "\n",
    "Data Set 2:\n",
    "```python\n",
    "x = [0.0, 1.0, 2.0, 3.0, 4.0, 5.0, 6.0, 7.0, 8.0, 9.0, 10.0, 11.0, 12.0]\n",
    "y = [5.7, 16.6, 58.0, 278.9, 1069.3, 3181.4, 7844.3, 16883.9, 32854.9, 59144.2, 100106.7, 161166.3, 248958.6]\n",
    "```"
   ]
  },
  {
   "cell_type": "code",
   "execution_count": null,
   "id": "2e56cd8f",
   "metadata": {},
   "outputs": [],
   "source": [
    "import numpy as np\n",
    "\n",
    "# Data Set 1\n",
    "x1 = [0.0, 1.0, 2.0, 3.0, 4.0, 5.0, 6.0, 7.0, 8.0, 9.0, 10.0, 11.0, 12.0, 13.0, 14.0, 15.0]\n",
    "y1 = [1.3, 1.2, 9.4, 27.3, 63.1, 126.5, 217.3, 341.5, 512.8, 729.3, 1001.8, 1332.7, 1728.9, 2198.8, 2743.7, 3376.7]\n",
    "\n",
    "# Data Set 2\n",
    "x2 = [0.0, 1.0, 2.0, 3.0, 4.0, 5.0, 6.0, 7.0, 8.0, 9.0, 10.0, 11.0, 12.0]\n",
    "y2 = [5.7, 16.6, 58.0, 278.9, 1069.3, 3181.4, 7844.3, 16883.9, 32854.9, 59144.2, 100106.7, 161166.3, 248958.6]\n",
    "\n",
    "# Fit a polynomial of degree 2 to the data\n",
    "coefficients1, residuals, rank, singular_values, rcond = np.polyfit(x1, y1, deg=2, full=True)\n",
    "\n",
    "# Print the coefficients of the fitted polynomial\n",
    "print(coefficients1)\n",
    "\n",
    "# Fit a polynomial of degree 3 to the data\n",
    "coefficients2, residuals, rank, singular_values, rcond = np.polyfit(x2, y2, deg=3, full=True)\n",
    "\n",
    "# Print the coefficients of the fitted polynomial\n",
    "print(coefficients2)"
   ]
  },
  {
   "cell_type": "markdown",
   "id": "55a67bef",
   "metadata": {},
   "source": [
    "This will fit a polynomial of degree 2 to the data in Data Set 1, and a polynomial of degree 3 to the data in Data Set 2. The polyfit function returns the coefficients of the fitted polynomial, which you can use to construct the polynomial using numpy.poly1d.\n",
    "\n",
    "For example, to construct the polynomial fitted to Data Set 1, you can use the following code:"
   ]
  },
  {
   "cell_type": "code",
   "execution_count": null,
   "id": "b33b1662",
   "metadata": {},
   "outputs": [],
   "source": [
    "# Construct the polynomial using the coefficients\n",
    "poly1 = np.poly1d(coefficients1)\n",
    "\n",
    "# Print the polynomial\n",
    "print(poly1)"
   ]
  },
  {
   "cell_type": "markdown",
   "id": "edf4e5d5",
   "metadata": {},
   "source": [
    "This will print the polynomial in the form a*x**2 + b*x + c, where a, b, and c are the coefficients returned by polyfit."
   ]
  },
  {
   "cell_type": "code",
   "execution_count": null,
   "id": "f3d79019",
   "metadata": {},
   "outputs": [],
   "source": []
  }
 ],
 "metadata": {
  "kernelspec": {
   "display_name": "Python 3",
   "language": "python",
   "name": "python3"
  },
  "language_info": {
   "codemirror_mode": {
    "name": "ipython",
    "version": 3
   },
   "file_extension": ".py",
   "mimetype": "text/x-python",
   "name": "python",
   "nbconvert_exporter": "python",
   "pygments_lexer": "ipython3",
   "version": "3.8.8"
  }
 },
 "nbformat": 4,
 "nbformat_minor": 5
}
